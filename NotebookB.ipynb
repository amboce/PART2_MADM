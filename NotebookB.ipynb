{
 "cells": [
  {
   "cell_type": "code",
   "execution_count": 33,
   "id": "cffbaea3",
   "metadata": {},
   "outputs": [],
   "source": [
    "#Cargo libreria numpy y pyplot\n",
    "import numpy as np\n",
    "import matplotlib.pyplot as plt"
   ]
  },
  {
   "cell_type": "code",
   "execution_count": 70,
   "id": "6d951862",
   "metadata": {},
   "outputs": [
    {
     "name": "stdout",
     "output_type": "stream",
     "text": [
      "[['cap_rate' 'price' 'Postcode']\n",
      " ['0.038' '6120000' '']\n",
      " ['0.038' '4880000' '']\n",
      " ...\n",
      " ['0.04' '2575000' '10454']\n",
      " ['0.032' '3500000' '11358']\n",
      " ['0.022' '10400000' '10034']]\n",
      "(535, 3)\n"
     ]
    }
   ],
   "source": [
    "#Cargo los datos de ventas de viviendas\n",
    "#https://data.cityofnewyork.us/Housing-Development/Speculation-Watch-List/adax-9mit\n",
    "Ventas_viviendas = \"data/Ventas_viviendas.csv\"\n",
    "raw_data = open(Ventas_viviendas)\n",
    "data = np.genfromtxt(raw_data, dtype=str,usecols = (12,11,15), delimiter =\",\")\n",
    "data = np.asarray(data)\n",
    "#seleccionar las columnas 12,13,16 correspondiente a Price,cap_rate, post cod respectivamente\n",
    "\n",
    "\n",
    "#Que nos muestre los datos y las dimensiones del dataset\n",
    "print(data)\n",
    "print(data.shape)"
   ]
  },
  {
   "cell_type": "code",
   "execution_count": 73,
   "id": "d779a0d8",
   "metadata": {},
   "outputs": [
    {
     "name": "stdout",
     "output_type": "stream",
     "text": [
      "['price' '6120000' '4880000' '11989543' '1825000' '9475000' '12/10/2018'\n",
      " '9250000' '2650000' '5500000' '7875000' '5400000' '2504728' '5975000'\n",
      " '12000000' '6100000' '2000000' '09/30/2021' '7450000' '3200000' '3500000'\n",
      " '4900000' '9300000' '22250000' '02/26/2021' '19500000' '4800000'\n",
      " '12/14/2018' '5845000' '09/30/2021' '60000000' '05/05/2022' '4440000'\n",
      " '2600000' '9200000' '6950000' '7000000' '22600000' '1400000' '13850000'\n",
      " '8000000' '9600000' '6000000' '3700000' '15846742' '12000000' '15210000'\n",
      " '5560000' '7769797' '3620689' '8200000' '3500000' '9482177' '4625000'\n",
      " '05/03/2018' '06/14/2018' '3000000' '14625000' '07/24/2018' '7210000'\n",
      " '19700000' '3000000' '7975000' '7000000' '4458000' '2300000' '6800000'\n",
      " '2450000' '14400000' '14000000' '17500000' '5200000' '8125000' '10208334'\n",
      " '15200000' '5450000' '10/01/2021' '12744046' '44000000' '3800000'\n",
      " '10/06/2020' '2796352' '64500000' '3175000' '2375000' '6100000' '3290000'\n",
      " '08/16/2019' '8800000' '50750000' '11600000' '16263095' '12250000'\n",
      " '11696155' '8375000' '4459459' '7450000' '02/01/2022' '8500000'\n",
      " '13757983' '12/10/2018' '4700000' '6100000' '7210000' '08/23/2021'\n",
      " '11600000' '12850000' '3350000' '3200000' '13000000' '5900000' '12600000'\n",
      " '8595386' '4380000' '6687500' '4000000' '6020000' '9750000' '12/10/2018'\n",
      " '2500000' '6050000' '30000000' '09/09/2020' '7952000' '7000000' '5700000'\n",
      " '6416395' '21417000' '6800000' '5168000' '4000000' '18218925' '5225000'\n",
      " '3310000' '15000000' '4725000' '9510000' '19900000' '20540248' '5500000'\n",
      " '4650000' '15000000' '13833000' '4190000' '8400000' '8250000' '17000000'\n",
      " '12/10/2018' '10055518' '3100000' '07/20/2020' '06/30/2021' '3900000'\n",
      " '04/30/2018' '01/04/2019' '11200000' '5200000' '7250000' '11/08/2021'\n",
      " '7910000' '750000' '7955000' '5585336' '8500000' '74700000' '7230000'\n",
      " '11450000' '16000000' '5797904' '4100000' '5050000' '1400000' '5812000'\n",
      " '2800000' '08/31/2018' '5700000' '7725000' '9371919' '2280000' '2135000'\n",
      " '04/20/2022' '4568045' '12916930' '12/15/2020' '7500000' '2950000'\n",
      " '3175000' '11833333' '3000000' '19550000' '04/01/2019' '14500000'\n",
      " '8600000' '4070000' '18007663' '8048000' '5050000' '1650000' '21795000'\n",
      " '4600000' '15750000' '06/02/2022' '11/14/2018' '10700000' '5000000'\n",
      " '22500000' '20150000' '3800000' '6250000' '19000000' '3900000' '3372000'\n",
      " '8896000' '3700000' '3650000' '02/15/2019' '13650000' '4590000'\n",
      " '05/21/2018' '6500000' '06/21/2022' '9300000' '14000000' '3084000'\n",
      " '10200000' '6850000' '12/10/2018' '3500000' '04/05/2018' '4850000'\n",
      " '7275000' '6487500' '3750000' '8150000' '3200000' '3095000' '500000'\n",
      " '10400000' '12100000' '5366497' '17767559' '04/26/2018' '8800000'\n",
      " '2800000' '6000000' '9041666' '3900000' '11/23/2020' '8150000' '25000000'\n",
      " '6000000' '4795000' '8900000' '11/01/2018' '14959501' '2425000'\n",
      " '14750000' '06/11/2019' '2750000' '2300000' '6300000' '3500000' '5340000'\n",
      " '7200000' '20140792' '5900000' '4302778' '26500000' '4825000' '5115000'\n",
      " '5500000' '3197000' '04/05/2018' '2550000' '6750000' '6800000'\n",
      " '02/17/2021' '17991000' '3150000' '4800000' '6200000' '5700000' '7850000'\n",
      " '3675000' '2800000' '8500000' '7800000' '18375000' '11/17/2021'\n",
      " '28028095' '12/10/2018' '09/12/2019' '2100000' '3575127' '27700000'\n",
      " '7250000' '3150000' '7600000' '7775000' '4550000' '26200000' '3500000'\n",
      " '4800000' '16000000' '3900000' '4200000' '12/04/2018' '4800000' '4950000'\n",
      " '37500000' '8150000' '950000' '10100000' '3240000' '7200000' '12/10/2018'\n",
      " '06/22/2021' '8623000' '4831081' '18400000' '6550000' '7275000' '4732800'\n",
      " '3500000' '6400000' '6500000' '2450000' '26839208' '15000000' '20000000'\n",
      " '36300000' '6200000' '3800000' '6000000' '03/30/2022' '7097381' '3225000'\n",
      " '5600000' '4375000' '6650000' '12/20/2019' '6255000' '07/08/2020'\n",
      " '4100000' '8000000' '10/07/2021' '3500000' '18300000' '5200000' '3100000'\n",
      " '3775000' '90000000' '4650000' '3285000' '06/15/2022' '2350000' '5485000'\n",
      " '2400000' '17000000' '12/10/2018' '3500000' '2800000' '15250000'\n",
      " '3807600' '871215' '3825000' '4791000' '4750000' '2850000' '7840000'\n",
      " '4400000' '3092000' '3500000' '11833334' '7363419' '12/10/2018' '8379598'\n",
      " '15800000' '6400000' '18450000' '17500000' '3600000' '16086846' '9250000'\n",
      " '9923209' '5408075' '06/25/2018' '14000000' '6607000' '11470000'\n",
      " '12575000' '2200000' '15425000' '2775000' '8587220' '5000000' '11833333'\n",
      " '14938625' '4794425' '5200000' '2250000' '14800000' '6075000' '10752000'\n",
      " '3500000' '06/21/2018' '5100000' '4682755' '12/20/2019' '8525000'\n",
      " '12/10/2018' '9400000' '8650000' '5815000' '7600000' '2800000'\n",
      " '04/21/2022' '3000000' '5725000' '2825000' '10275000' '5500000'\n",
      " '06/21/2018' '5675000' '3379310' '4580000' '8600000' '4660000' '8000000'\n",
      " '16800000' '8600000' '8500000' '15000000' '2800000' '6100000' '5200000'\n",
      " '2823000' '45000000' '6600000' '12035000' '12/10/2018' '4900000'\n",
      " '5150000' '10150000' '4850000' '3150000' '8000000' '6075000' '7925000'\n",
      " '20000000' '3550000' '06/30/2021' '07/10/2018' '42500000' '5950000'\n",
      " '9040000' '6350000' '8462364' '2125000' '10/07/2021' '10/08/2021'\n",
      " '10262870' '8000000' '2800000' '6000000' '14400000' '8600000' '7750000'\n",
      " '5500000' '9000000' '5220000' '8925000' '2700000' '8375000' '3200000'\n",
      " '04/16/2019' '8159083' '12/10/2018' '9690000' '4825000' '7100000'\n",
      " '5000000' '6450000' '6900000' '3750000' '4400000' '7000000' '08/06/2021'\n",
      " '5660000' '2450000' '15278612' '02/18/2022' '12448000' '4000000'\n",
      " '19100000' '11250000' '4050000' '3400000' '2504728' '19475951' '17800000'\n",
      " '4150000' '3650000' '1730000' '4900000' '25450000' '01/22/2019' '2700000'\n",
      " '10150000' '8706380' '7400000' '7000000' '5855296' '12000000' '5675000'\n",
      " '08/30/2018' '22000000' '10000000' '11525000' '9041146' '04/07/2022'\n",
      " '04/21/2021' '8275000' '19300000' '9250000' '15000000' '5000000'\n",
      " '08/29/2019' '11300000' '18000000' '8300000' '3430000' '2575000'\n",
      " '3500000' '10400000']\n",
      "['cap_rate' '0.038' '0.038' '0.033' '0.034' '0.024' '10200000' '0.039'\n",
      " '0.039' '0.045' '0.032' '0.025' '0.02' '0.032' '0.016' '0.029' '0.043'\n",
      " '6600000' '0.034' '0.024' '0.026' '0.028' '0.035' '0.045' '2162500'\n",
      " '0.019' '0.03' '19250000' '0.039' '11900000' '0.04' '5000000' '0.023'\n",
      " '0.022' '0.03' '0.03' '0.046' '0.026' '0.041' '0.016' '0.029' '0.031'\n",
      " '0.041' '0.03' '0.029' '0.03' '0.021' '0.031' '0.035' '0.024' '0.033'\n",
      " '0.046' '0.04' '0.026' '6025000' '8025000' '0.054' '0.035' '7425000'\n",
      " '0.019' '0.024' '0.036' '0.032' '0.029' '0.03' '0.056' '0.053' '0.036'\n",
      " '0.033' '0.022' '0.019' '0.029' '0.038' '0.028' '0.026' '0.043'\n",
      " '34000000' '0.024' '0.008' '0.035' '4330000' '0.043' '0.023' '0.032'\n",
      " '0.032' '0.053' '0.036' '3680000' '0.035' '0.037' '0.035' '0.032' '0.038'\n",
      " '0.032' '0.042' '0.039' '0.043' '15000000' '0.019' '0.04' '5400000'\n",
      " '0.03' '0.041' '0.032' '7500000' '0.034' '0.023' '0.055' '0.044' '0.028'\n",
      " '0.032' '0.05' '0.032' '0.031' '0.05' '0.022' '0.024' '0.042' '4800000'\n",
      " '0.049' '0.035' '0.026' '62000000' '0.036' '0.036' '0.055' '0.02' '0.027'\n",
      " '0.031' '0.035' '0.031' '0.025' '0.027' '0.027' '0.032' '0.042' '0.03'\n",
      " '0.023' '0.037' '0.041' '0.037' '0.028' '0.025' '0.038' '0.03' '0.044'\n",
      " '0.046' '11300000' '0.026' '0.042' '4000000' '2794000' '0.035' '4000000'\n",
      " '8950000' '0.047' '0.055' '0.031' '18050000' '0.027' '0.021' '0.044'\n",
      " '0.056' '0.028' '0.028' '0.033' '0.03' '0.03' '0.038' '0.04' '0.015'\n",
      " '0.04' '0.034' '0.041' '6288000' '0.04' '0.028' '0.027' '0.041' '0.03'\n",
      " '26750000' '0.035' '0.034' '6100000' '0.02' '0.033' '0.034' '0.029'\n",
      " '0.043' '0.031' '13135000' '0.035' '0.019' '0.05' '0.026' '0.025' '0.039'\n",
      " '0.036' '0.017' '0.034' '0.055' '16250000' '8250000' '0.041' '0.045'\n",
      " '0.026' '0.015' '0.039' '0.027' '0.025' '0.036' '0.032' '0.047' '0.036'\n",
      " '0.037' '15500000' '0.032' '0.026' '13300000' '0.032' '2200000' '0.034'\n",
      " '0.028' '0.03' '0.055' '0.04' '6800000' '0.037' '7200000' '0.038' '0.04'\n",
      " '0.031' '0.033' '0.062' '0.042' '0.037' '0.023' '0.027' '0.029' '0.036'\n",
      " '0.029' '10650000' '0.028' '0.032' '0.052' '0.019' '0.037' '5050000'\n",
      " '0.03' '0.02' '0.049' '0.029' '0.039' '5100000' '0.031' '0.024' '0.033'\n",
      " '22500000' '0.036' '0.023' '0.018' '0.037' '0.049' '0.031' '0.025'\n",
      " '0.035' '0.027' '0.055' '0.031' '0.035' '0.025' '0.048' '41409879' '0.02'\n",
      " '0.055' '0.03' '8500000' '0.025' '0.032' '0.017' '0.031' '0.046' '0.042'\n",
      " '0.046' '0.044' '0.033' '0.031' '0.035' '1750000' '0.032' '5300000'\n",
      " '7225000' '0.038' '0.039' '0.028' '0.038' '0.027' '0.044' '0.04' '0.03'\n",
      " '0.018' '0.033' '0.047' '0.037' '0.029' '0.043' '5150000' '0.04' '0.043'\n",
      " '0.039' '0.032' '0.068' '0.041' '0.056' '0.038' '4100000' '7956000'\n",
      " '0.029' '0.039' '0.018' '0.023' '0.033' '0.026' '0.038' '0.054' '0.025'\n",
      " '0.036' '0.026' '0.052' '0.031' '0.041' '0.027' '0.026' '0.046'\n",
      " '12988352' '0.045' '0.049' '0.034' '0.023' '0.047' '8500000' '0.022'\n",
      " '9300000' '0.034' '0.031' '5020000' '0.039' '0.032' '0.027' '0.036'\n",
      " '0.028' '0.036' '0.036' '0.03' '2500000' '0.043' '0.052' '0.039' '0.032'\n",
      " '6200000' '0.035' '0.05' '0.027' '0.052' '0.042' '0.036' '0.023' '0.026'\n",
      " '0.037' '0.034' '0.056' '0.031' '0.046' '0.029' '0.04' '8200000' '0.035'\n",
      " '0.048' '0.058' '0.032' '0.024' '0.029' '0.032' '0.013' '0.013' '0.037'\n",
      " '9900000' '0.039' '0.034' '0.041' '0.029' '0.046' '0.035' '0.042' '0.033'\n",
      " '0.047' '0.028' '0.015' '0.023' '0.025' '0.037' '0.048' '0.047' '0.03'\n",
      " '0.037' '40400000' '0.053' '0.02' '14500000' '0.029' '6900000' '0.044'\n",
      " '0.02' '0.033' '0.028' '0.039' '3950000' '0.037' '0.028' '0.046' '0.025'\n",
      " '0.032' '36000000' '0.043' '0.028' '0.026' '0.032' '0.055' '0.03' '0.027'\n",
      " '0.021' '0.014' '0.031' '0.025' '0.024' '0.043' '0.034' '0.018' '0.033'\n",
      " '0.042' '10300000' '0.029' '0.031' '0.053' '0.04' '0.04' '0.031' '0.025'\n",
      " '0.03' '0.054' '0.03' '8650000' '5750000' '0.029' '0.04' '0.028' '0.046'\n",
      " '0.037' '0.041' '3605000' '8040000' '0.027' '0.033' '0.031' '0.029'\n",
      " '0.021' '0.017' '0.033' '0.016' '0.014' '0.037' '0.028' '0.037' '0.042'\n",
      " '0.039' '6275000' '0.041' '7300000' '0.038' '0.048' '0.028' '0.046'\n",
      " '0.031' '0.034' '0.048' '0.035' '0.046' '7200000' '0.029' '0.036' '0.037'\n",
      " '4450000' '0.043' '0.024' '0.03' '0.047' '0.035' '0.051' '0.019' '0.028'\n",
      " '0.03' '0.02' '0.038' '0.032' '0.026' '0.019' '2750000' '0.027' '0.032'\n",
      " '0.029' '0.024' '0.043' '0.034' '0.035' '0.04' '7400000' '0.029' '0.041'\n",
      " '0.035' '0.024' '9613000' '24412000' '0.03' '0.031' '0.036' '0.034'\n",
      " '0.034' '15734353' '0.047' '0.031' '0.037' '0.046' '0.04' '0.032' '0.022']\n"
     ]
    },
    {
     "ename": "ValueError",
     "evalue": "could not convert string to float: 'price'",
     "output_type": "error",
     "traceback": [
      "\u001b[1;31m---------------------------------------------------------------------------\u001b[0m",
      "\u001b[1;31mValueError\u001b[0m                                Traceback (most recent call last)",
      "Cell \u001b[1;32mIn [73], line 10\u001b[0m\n\u001b[0;32m      7\u001b[0m \u001b[38;5;28mprint\u001b[39m(cap_rate)\n\u001b[0;32m      9\u001b[0m \u001b[38;5;66;03m#Convertir los datos a float para poder trabajar con ellos\u001b[39;00m\n\u001b[1;32m---> 10\u001b[0m price1 \u001b[38;5;241m=\u001b[39m \u001b[43mprice\u001b[49m\u001b[38;5;241;43m.\u001b[39;49m\u001b[43mastype\u001b[49m\u001b[43m(\u001b[49m\u001b[38;5;28;43mfloat\u001b[39;49m\u001b[43m)\u001b[49m\n\u001b[0;32m     11\u001b[0m price1\n\u001b[0;32m     13\u001b[0m cap_rate1 \u001b[38;5;241m=\u001b[39m cap_rate\u001b[38;5;241m.\u001b[39mastype(\u001b[38;5;28mfloat\u001b[39m)\n",
      "\u001b[1;31mValueError\u001b[0m: could not convert string to float: 'price'"
     ]
    }
   ],
   "source": [
    "#Selecciono todas las filas de la columna price\n",
    "price = data[:,1]\n",
    "print(price)\n",
    "\n",
    "#Selecciono todas las filas de la columna cap_Rate\n",
    "cap_rate = data[:,0]\n",
    "print(cap_rate)\n",
    "\n",
    "#Convertir los datos a float para poder trabajar con ellos\n",
    "price1 = price.astype(float)\n",
    "price1\n",
    "\n",
    "cap_rate1 = cap_rate.astype(float)\n",
    "cap_rate1"
   ]
  },
  {
   "cell_type": "code",
   "execution_count": 74,
   "id": "92b5bb76",
   "metadata": {},
   "outputs": [
    {
     "ename": "UFuncTypeError",
     "evalue": "ufunc 'minimum' did not contain a loop with signature matching types (dtype('<U10'), dtype('<U10')) -> None",
     "output_type": "error",
     "traceback": [
      "\u001b[1;31m---------------------------------------------------------------------------\u001b[0m",
      "\u001b[1;31mUFuncTypeError\u001b[0m                            Traceback (most recent call last)",
      "Cell \u001b[1;32mIn [74], line 2\u001b[0m\n\u001b[0;32m      1\u001b[0m \u001b[38;5;66;03m#Calcul del màxim preu i mínim preu \u001b[39;00m\n\u001b[1;32m----> 2\u001b[0m \u001b[38;5;28mprint\u001b[39m(\u001b[43mnp\u001b[49m\u001b[38;5;241;43m.\u001b[39;49m\u001b[43mmin\u001b[49m\u001b[43m(\u001b[49m\u001b[43mprice\u001b[49m\u001b[43m)\u001b[49m)\n\u001b[0;32m      3\u001b[0m \u001b[38;5;28mprint\u001b[39m(np\u001b[38;5;241m.\u001b[39mmax(price))\n\u001b[0;32m      5\u001b[0m \u001b[38;5;66;03m#mitjana de capitalització\u001b[39;00m\n",
      "File \u001b[1;32m<__array_function__ internals>:180\u001b[0m, in \u001b[0;36mamin\u001b[1;34m(*args, **kwargs)\u001b[0m\n",
      "File \u001b[1;32m~\\AppData\\Local\\Programs\\Python\\Python310\\lib\\site-packages\\numpy\\core\\fromnumeric.py:2918\u001b[0m, in \u001b[0;36mamin\u001b[1;34m(a, axis, out, keepdims, initial, where)\u001b[0m\n\u001b[0;32m   2802\u001b[0m \u001b[38;5;129m@array_function_dispatch\u001b[39m(_amin_dispatcher)\n\u001b[0;32m   2803\u001b[0m \u001b[38;5;28;01mdef\u001b[39;00m \u001b[38;5;21mamin\u001b[39m(a, axis\u001b[38;5;241m=\u001b[39m\u001b[38;5;28;01mNone\u001b[39;00m, out\u001b[38;5;241m=\u001b[39m\u001b[38;5;28;01mNone\u001b[39;00m, keepdims\u001b[38;5;241m=\u001b[39mnp\u001b[38;5;241m.\u001b[39m_NoValue, initial\u001b[38;5;241m=\u001b[39mnp\u001b[38;5;241m.\u001b[39m_NoValue,\n\u001b[0;32m   2804\u001b[0m          where\u001b[38;5;241m=\u001b[39mnp\u001b[38;5;241m.\u001b[39m_NoValue):\n\u001b[0;32m   2805\u001b[0m     \u001b[38;5;124;03m\"\"\"\u001b[39;00m\n\u001b[0;32m   2806\u001b[0m \u001b[38;5;124;03m    Return the minimum of an array or minimum along an axis.\u001b[39;00m\n\u001b[0;32m   2807\u001b[0m \n\u001b[1;32m   (...)\u001b[0m\n\u001b[0;32m   2916\u001b[0m \u001b[38;5;124;03m    6\u001b[39;00m\n\u001b[0;32m   2917\u001b[0m \u001b[38;5;124;03m    \"\"\"\u001b[39;00m\n\u001b[1;32m-> 2918\u001b[0m     \u001b[38;5;28;01mreturn\u001b[39;00m \u001b[43m_wrapreduction\u001b[49m\u001b[43m(\u001b[49m\u001b[43ma\u001b[49m\u001b[43m,\u001b[49m\u001b[43m \u001b[49m\u001b[43mnp\u001b[49m\u001b[38;5;241;43m.\u001b[39;49m\u001b[43mminimum\u001b[49m\u001b[43m,\u001b[49m\u001b[43m \u001b[49m\u001b[38;5;124;43m'\u001b[39;49m\u001b[38;5;124;43mmin\u001b[39;49m\u001b[38;5;124;43m'\u001b[39;49m\u001b[43m,\u001b[49m\u001b[43m \u001b[49m\u001b[43maxis\u001b[49m\u001b[43m,\u001b[49m\u001b[43m \u001b[49m\u001b[38;5;28;43;01mNone\u001b[39;49;00m\u001b[43m,\u001b[49m\u001b[43m \u001b[49m\u001b[43mout\u001b[49m\u001b[43m,\u001b[49m\n\u001b[0;32m   2919\u001b[0m \u001b[43m                          \u001b[49m\u001b[43mkeepdims\u001b[49m\u001b[38;5;241;43m=\u001b[39;49m\u001b[43mkeepdims\u001b[49m\u001b[43m,\u001b[49m\u001b[43m \u001b[49m\u001b[43minitial\u001b[49m\u001b[38;5;241;43m=\u001b[39;49m\u001b[43minitial\u001b[49m\u001b[43m,\u001b[49m\u001b[43m \u001b[49m\u001b[43mwhere\u001b[49m\u001b[38;5;241;43m=\u001b[39;49m\u001b[43mwhere\u001b[49m\u001b[43m)\u001b[49m\n",
      "File \u001b[1;32m~\\AppData\\Local\\Programs\\Python\\Python310\\lib\\site-packages\\numpy\\core\\fromnumeric.py:86\u001b[0m, in \u001b[0;36m_wrapreduction\u001b[1;34m(obj, ufunc, method, axis, dtype, out, **kwargs)\u001b[0m\n\u001b[0;32m     83\u001b[0m         \u001b[38;5;28;01melse\u001b[39;00m:\n\u001b[0;32m     84\u001b[0m             \u001b[38;5;28;01mreturn\u001b[39;00m reduction(axis\u001b[38;5;241m=\u001b[39maxis, out\u001b[38;5;241m=\u001b[39mout, \u001b[38;5;241m*\u001b[39m\u001b[38;5;241m*\u001b[39mpasskwargs)\n\u001b[1;32m---> 86\u001b[0m \u001b[38;5;28;01mreturn\u001b[39;00m ufunc\u001b[38;5;241m.\u001b[39mreduce(obj, axis, dtype, out, \u001b[38;5;241m*\u001b[39m\u001b[38;5;241m*\u001b[39mpasskwargs)\n",
      "\u001b[1;31mUFuncTypeError\u001b[0m: ufunc 'minimum' did not contain a loop with signature matching types (dtype('<U10'), dtype('<U10')) -> None"
     ]
    }
   ],
   "source": [
    "#Calcul del màxim preu i mínim preu \n",
    "print(np.min(price))\n",
    "print(np.max(price))\n",
    "\n",
    "#mitjana de capitalització\n",
    "print(np.mean(cap_rate))\n",
    "#max capitalitzacio\n",
    "print(np.max(cap_rate))\n"
   ]
  },
  {
   "cell_type": "code",
   "execution_count": 77,
   "id": "cabe681d",
   "metadata": {},
   "outputs": [
    {
     "ename": "TypeError",
     "evalue": "Axes.scatter() missing 1 required positional argument: 'y'",
     "output_type": "error",
     "traceback": [
      "\u001b[1;31m---------------------------------------------------------------------------\u001b[0m",
      "\u001b[1;31mTypeError\u001b[0m                                 Traceback (most recent call last)",
      "Cell \u001b[1;32mIn [77], line 6\u001b[0m\n\u001b[0;32m      3\u001b[0m ax\u001b[38;5;241m.\u001b[39mset_title(\u001b[38;5;124m'\u001b[39m\u001b[38;5;124mRatio de capital\u001b[39m\u001b[38;5;124m'\u001b[39m,loc\u001b[38;5;241m=\u001b[39m\u001b[38;5;124m\"\u001b[39m\u001b[38;5;124mleft\u001b[39m\u001b[38;5;124m\"\u001b[39m, fontdict \u001b[38;5;241m=\u001b[39m {\u001b[38;5;124m'\u001b[39m\u001b[38;5;124mfontsize\u001b[39m\u001b[38;5;124m'\u001b[39m:\u001b[38;5;241m14\u001b[39m, \u001b[38;5;124m'\u001b[39m\u001b[38;5;124mfontweight\u001b[39m\u001b[38;5;124m'\u001b[39m:\u001b[38;5;124m'\u001b[39m\u001b[38;5;124mbold\u001b[39m\u001b[38;5;124m'\u001b[39m, \u001b[38;5;124m'\u001b[39m\u001b[38;5;124mcolor\u001b[39m\u001b[38;5;124m'\u001b[39m:\u001b[38;5;124m'\u001b[39m\u001b[38;5;124mtab:blue\u001b[39m\u001b[38;5;124m'\u001b[39m})\n\u001b[0;32m      5\u001b[0m \u001b[38;5;66;03m#diagrama de puntos del ratio de capital\u001b[39;00m\n\u001b[1;32m----> 6\u001b[0m \u001b[43max\u001b[49m\u001b[38;5;241;43m.\u001b[39;49m\u001b[43mscatter\u001b[49m\u001b[43m(\u001b[49m\u001b[43mcap_rate\u001b[49m\u001b[43m)\u001b[49m\n\u001b[0;32m      7\u001b[0m \u001b[38;5;66;03m#leyenda\u001b[39;00m\n\u001b[0;32m      8\u001b[0m ax\u001b[38;5;241m.\u001b[39mlegend(loc\u001b[38;5;241m=\u001b[39m\u001b[38;5;124m'\u001b[39m\u001b[38;5;124mupper right\u001b[39m\u001b[38;5;124m'\u001b[39m)\n",
      "File \u001b[1;32m~\\AppData\\Local\\Programs\\Python\\Python310\\lib\\site-packages\\matplotlib\\__init__.py:1423\u001b[0m, in \u001b[0;36m_preprocess_data.<locals>.inner\u001b[1;34m(ax, data, *args, **kwargs)\u001b[0m\n\u001b[0;32m   1420\u001b[0m \u001b[38;5;129m@functools\u001b[39m\u001b[38;5;241m.\u001b[39mwraps(func)\n\u001b[0;32m   1421\u001b[0m \u001b[38;5;28;01mdef\u001b[39;00m \u001b[38;5;21minner\u001b[39m(ax, \u001b[38;5;241m*\u001b[39margs, data\u001b[38;5;241m=\u001b[39m\u001b[38;5;28;01mNone\u001b[39;00m, \u001b[38;5;241m*\u001b[39m\u001b[38;5;241m*\u001b[39mkwargs):\n\u001b[0;32m   1422\u001b[0m     \u001b[38;5;28;01mif\u001b[39;00m data \u001b[38;5;129;01mis\u001b[39;00m \u001b[38;5;28;01mNone\u001b[39;00m:\n\u001b[1;32m-> 1423\u001b[0m         \u001b[38;5;28;01mreturn\u001b[39;00m func(ax, \u001b[38;5;241m*\u001b[39m\u001b[38;5;28mmap\u001b[39m(sanitize_sequence, args), \u001b[38;5;241m*\u001b[39m\u001b[38;5;241m*\u001b[39mkwargs)\n\u001b[0;32m   1425\u001b[0m     bound \u001b[38;5;241m=\u001b[39m new_sig\u001b[38;5;241m.\u001b[39mbind(ax, \u001b[38;5;241m*\u001b[39margs, \u001b[38;5;241m*\u001b[39m\u001b[38;5;241m*\u001b[39mkwargs)\n\u001b[0;32m   1426\u001b[0m     auto_label \u001b[38;5;241m=\u001b[39m (bound\u001b[38;5;241m.\u001b[39marguments\u001b[38;5;241m.\u001b[39mget(label_namer)\n\u001b[0;32m   1427\u001b[0m                   \u001b[38;5;129;01mor\u001b[39;00m bound\u001b[38;5;241m.\u001b[39mkwargs\u001b[38;5;241m.\u001b[39mget(label_namer))\n",
      "\u001b[1;31mTypeError\u001b[0m: Axes.scatter() missing 1 required positional argument: 'y'"
     ]
    },
    {
     "data": {
      "image/png": "[encoded data removed]",
      "text/plain": [
       "<Figure size 640x480 with 1 Axes>"
      ]
     },
     "metadata": {},
     "output_type": "display_data"
    }
   ],
   "source": [
    "fig, ax = plt.subplots()\n",
    "#título\n",
    "ax.set_title('Ratio de capital',loc=\"left\", fontdict = {'fontsize':14, 'fontweight':'bold', 'color':'tab:blue'})\n",
    "\n",
    "#diagrama de puntos del ratio de capital\n",
    "ax.scatter(cap_rate)\n",
    "#leyenda\n",
    "ax.legend(loc='upper right')"
   ]
  }
 ],
 "metadata": {
  "kernelspec": {
   "display_name": "Python 3 (ipykernel)",
   "language": "python",
   "name": "python3"
  },
  "language_info": {
   "codemirror_mode": {
    "name": "ipython",
    "version": 3
   },
   "file_extension": ".py",
   "mimetype": "text/x-python",
   "name": "python",
   "nbconvert_exporter": "python",
   "pygments_lexer": "ipython3",
   "version": "3.10.8"
  }
 },
 "nbformat": 4,
 "nbformat_minor": 5
}
