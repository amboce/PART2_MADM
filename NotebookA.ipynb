{
 "cells": [
  {
   "cell_type": "code",
   "execution_count": 1,
   "id": "c77e7fd3",
   "metadata": {},
   "outputs": [],
   "source": [
    "#Cargo libreria numpy y pyplot\n",
    "import numpy as np\n",
    "import matplotlib.pyplot as plt"
   ]
  },
  {
   "cell_type": "code",
   "execution_count": 2,
   "id": "839f1918",
   "metadata": {},
   "outputs": [
    {
     "name": "stdout",
     "output_type": "stream",
     "text": [
      "[['ï»¿Municipios' 'FenÃ³meno demogrÃ¡fico' 'Total']\n",
      " ['07002 Alaior' 'nacidos vivos por residencia materna' '70']\n",
      " ['07002 Alaior' 'muertes fetales tardÃ\\xadas por residencia materna' '0']\n",
      " ...\n",
      " ['07065 Vilafranca de Bonany'\n",
      "  'matrimonios por el lugar en que han fijado residencia' '7']\n",
      " ['07065 Vilafranca de Bonany' 'fallecidos por el lugar de residencia'\n",
      "  '24']\n",
      " ['07065 Vilafranca de Bonany' 'crecimiento vegetativo' '25']]\n",
      "(336, 3)\n"
     ]
    }
   ],
   "source": [
    "#Cargo los datos de municipios Illes Balears\n",
    "#https://datos.gob.es/es/catalogo/ea0010587-balears-illes-por-municipios-y-fenomeno-demografico-mnpd-identificador-api-t20-e301-fenom-a2020-l0-23007-px\n",
    "Municipi_illes = \"data/Municipi_illes.csv\"\n",
    "raw_data = open(Municipi_illes)\n",
    "data = np.loadtxt(raw_data, delimiter=\";\",dtype=str)\n",
    "data = np.asarray(data)\n",
    "\n",
    "#Que nos muestre los datos y las dimensiones del dataset\n",
    "print(data)\n",
    "print(data.shape)"
   ]
  },
  {
   "cell_type": "code",
   "execution_count": 3,
   "id": "4e0cb3b1",
   "metadata": {},
   "outputs": [
    {
     "data": {
      "text/plain": [
       "array([ 70.   ,   0.   ,  27.   ,  64.   ,   6.   ,  47.   ,   0.   ,\n",
       "        16.   ,  39.   ,   8.   , 178.   ,   2.   ,  43.   , 108.   ,\n",
       "        70.   ,  58.   ,   1.   ,  18.   ,  52.   ,   6.   , 109.   ,\n",
       "         1.   ,  40.   , 103.   ,   6.   ,   6.   ,   0.   ,   2.   ,\n",
       "         7.   ,  -1.   ,  57.   ,   0.   ,  12.   ,  65.   ,  -8.   ,\n",
       "         3.   ,   0.   ,   3.   ,   2.   ,   1.   ,  62.   ,   1.   ,\n",
       "        26.   ,  59.   ,   3.   ,  10.   ,   0.   ,   4.   ,  10.   ,\n",
       "         0.   ,  50.   ,   0.   ,  15.   ,  55.   ,  -5.   , 340.   ,\n",
       "         4.   , 112.   , 294.   ,  46.   ,  20.   ,   0.   ,   9.   ,\n",
       "        30.   , -10.   , 100.   ,   0.   ,  37.   ,  85.   ,  15.   ,\n",
       "       109.   ,   1.   ,  29.   ,  94.   ,  15.   ,  41.   ,   0.   ,\n",
       "        14.   ,  42.   ,  -1.   , 208.   ,   0.   ,  92.   , 219.   ,\n",
       "       -11.   ,  35.   ,   0.   ,  17.   ,  25.   ,  10.   ,  14.   ,\n",
       "         0.   ,  11.   ,   8.   ,   6.   ,   5.   ,   0.   ,   1.   ,\n",
       "         4.   ,   1.   , 434.   ,   1.   ,  98.   , 315.   , 119.   ,\n",
       "         3.   ,   0.   ,   0.   ,   0.   ,   3.   ,  35.   ,   0.   ,\n",
       "        14.   ,  45.   , -10.   ,   1.   ,   0.   ,   0.   ,   3.   ,\n",
       "        -2.   , 186.   ,   1.   ,  42.   , 172.   ,  14.   ,  39.   ,\n",
       "         0.   ,  13.   ,  30.   ,   9.   ,  91.   ,   1.   ,  28.   ,\n",
       "        52.   ,  39.   ,   4.   ,   0.   ,   1.   ,   3.   ,   1.   ,\n",
       "       334.   ,   0.   ,  71.   , 246.   ,  88.   ,  16.   ,   0.   ,\n",
       "         2.   ,  12.   ,   4.   ,  58.   ,   0.   ,  17.   ,  44.   ,\n",
       "        14.   ,  24.   ,   0.   ,  10.   ,  23.   ,   1.   , 277.   ,\n",
       "         3.   ,  98.   , 218.   ,  59.   , 445.   ,   0.   ,  81.   ,\n",
       "       341.   , 104.   ,  13.   ,   0.   ,   8.   ,  10.   ,   3.   ,\n",
       "       239.   ,   1.   ,  88.   , 189.   ,  50.   ,  19.   ,   0.   ,\n",
       "         9.   ,  30.   , -11.   , 264.   ,   2.   ,  95.   , 200.   ,\n",
       "        64.   ,  33.   ,   0.   ,  14.   ,  29.   ,   4.   ,   6.   ,\n",
       "         0.   ,   8.   ,   3.   ,   3.   ,  22.   ,   1.   ,   7.   ,\n",
       "        30.   ,  -8.   ,  77.   ,   0.   ,  23.   ,  71.   ,   6.   ,\n",
       "         3.345,  16.   ,   1.114,   3.355, -10.   ,  26.   ,   0.   ,\n",
       "         7.   ,  28.   ,  -2.   , 170.   ,   1.   ,  27.   , 108.   ,\n",
       "        62.   , 130.   ,   0.   ,  50.   , 134.   ,  -4.   ,  50.   ,\n",
       "         0.   ,  10.   ,  58.   ,  -8.   ,  13.   ,   0.   ,   3.   ,\n",
       "        12.   ,   1.   ,  34.   ,   0.   ,   7.   ,  42.   ,  -8.   ,\n",
       "       230.   ,   2.   ,  62.   , 151.   ,  79.   ,  23.   ,   0.   ,\n",
       "         4.   ,  46.   , -23.   ,  52.   ,   0.   ,   9.   ,  49.   ,\n",
       "         3.   , 237.   ,   1.   ,  64.   , 141.   ,  96.   ,  61.   ,\n",
       "         0.   ,  25.   ,  55.   ,   6.   ,  37.   ,   0.   ,  20.   ,\n",
       "        41.   ,  -4.   ,   8.   ,   0.   ,   5.   ,  11.   ,  -3.   ,\n",
       "       303.   ,   0.   , 113.   , 229.   ,  74.   ,  92.   ,   0.   ,\n",
       "        35.   , 110.   , -18.   ,  63.   ,   0.   ,  20.   ,  65.   ,\n",
       "        -2.   ,  86.   ,   0.   ,  23.   , 128.   , -42.   ,  33.   ,\n",
       "         0.   ,  14.   ,  28.   ,   5.   ,  28.   ,   0.   ,  11.   ,\n",
       "        31.   ,  -3.   ,  32.   ,   0.   ,   6.   ,  43.   , -11.   ,\n",
       "        94.   ,   0.   ,  33.   , 131.   , -37.   , 104.   ,   0.   ,\n",
       "        32.   ,  91.   ,  13.   ,  13.   ,   0.   ,   4.   ,  17.   ,\n",
       "        -4.   ,  49.   ,   0.   ,   7.   ,  24.   ,  25.   ])"
      ]
     },
     "execution_count": 3,
     "metadata": {},
     "output_type": "execute_result"
    }
   ],
   "source": [
    "#seleccionar columna de interes\n",
    "data1 = data[1:,2]\n",
    "data1\n",
    "\n",
    "#Convertirlo \n",
    "data2 = data1.astype(float)\n",
    "data2"
   ]
  },
  {
   "cell_type": "code",
   "execution_count": 4,
   "id": "901c5384",
   "metadata": {},
   "outputs": [
    {
     "data": {
      "text/plain": [
       "array([  0,   5,  10,  15,  20,  25,  30,  35,  40,  45,  50,  55,  60,\n",
       "        65,  70,  75,  80,  85,  90,  95, 100, 105, 110, 115, 120, 125,\n",
       "       130, 135, 140, 145, 150, 155, 160, 165, 170, 175, 180, 185, 190,\n",
       "       195, 200, 205, 210, 215, 220, 225, 230, 235, 240, 245, 250, 255,\n",
       "       260, 265, 270, 275, 280, 285, 290, 295, 300, 305, 310, 315, 320,\n",
       "       325, 330])"
      ]
     },
     "execution_count": 4,
     "metadata": {},
     "output_type": "execute_result"
    }
   ],
   "source": [
    "#Hay 5 categorias por lo que tengo que seleccionar una antes de hacer las estadísticas\n",
    "#En mi caso he seleccionado las muertes fetales por residencia materna\n",
    "data3 = np.arange(0,len(data2),5)\n",
    "data3"
   ]
  },
  {
   "cell_type": "code",
   "execution_count": 5,
   "id": "d8edc378",
   "metadata": {},
   "outputs": [
    {
     "name": "stdout",
     "output_type": "stream",
     "text": [
      "165.0\n",
      "0\n",
      "330\n",
      "165.0\n"
     ]
    }
   ],
   "source": [
    "#Ahora hago los estadísticos\n",
    "print(np.mean(data3)) #La media de muertes fetales\n",
    "print(np.min(data3)) # El mínimo de muertes fetales\n",
    "print(np.max(data3)) #El máximo de muertes fetales\n",
    "print(np.median(data3)) #La mediana de muertes fetales\n"
   ]
  },
  {
   "cell_type": "code",
   "execution_count": 6,
   "id": "09fbff0f",
   "metadata": {},
   "outputs": [
    {
     "data": {
      "text/plain": [
       "Text(0.0, 1.0, 'Muertes fetales')"
      ]
     },
     "execution_count": 6,
     "metadata": {},
     "output_type": "execute_result"
    },
    {
     "data": {
      "image/png": "[encoded data removed]",
      "text/plain": [
       "<Figure size 640x480 with 1 Axes>"
      ]
     },
     "metadata": {},
     "output_type": "display_data"
    }
   ],
   "source": [
    "fig, ax = plt.subplots()\n",
    "# Hago un boxplot\n",
    "ax.boxplot(data3)\n",
    "# Le pongo un título\n",
    "ax.set_title('Muertes fetales',loc=\"left\", fontdict = {'fontsize':14, 'fontweight':'bold', 'color':'tab:blue'})"
   ]
  }
 ],
 "metadata": {
  "kernelspec": {
   "display_name": "Python 3 (ipykernel)",
   "language": "python",
   "name": "python3"
  },
  "language_info": {
   "codemirror_mode": {
    "name": "ipython",
    "version": 3
   },
   "file_extension": ".py",
   "mimetype": "text/x-python",
   "name": "python",
   "nbconvert_exporter": "python",
   "pygments_lexer": "ipython3",
   "version": "3.10.8"
  }
 },
 "nbformat": 4,
 "nbformat_minor": 5
}
