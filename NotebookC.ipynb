{
 "cells": [
  {
   "cell_type": "code",
   "execution_count": 59,
   "id": "8f61842e",
   "metadata": {},
   "outputs": [],
   "source": [
    "#Importar libreria numpy y pyplot\n",
    "import numpy as np\n",
    "import matplotlib.pyplot as plt"
   ]
  },
  {
   "cell_type": "code",
   "execution_count": 53,
   "id": "3315e5d6",
   "metadata": {
    "scrolled": true
   },
   "outputs": [
    {
     "name": "stdout",
     "output_type": "stream",
     "text": [
      "[51.2 51.6 52.4 51.1 50.1 49.3 48.8 48.6 56.7 56.  56.5 56.1 55.6 53.7\n",
      " 53.1 52.  52.2 51.8 59.2 34.3 37.8 43.2 40.4 34.8 34.8 36.9 35.5 41.8\n",
      " 42.2 43.  49.4 40.6 37.5 36.5 42.7 38.4 45.1 44.7 42.7 42.6 41.9 39.8\n",
      " 39.  40.6 41.1 47.2 44.9 44.9 44.3 44.1 44.4 44.2 44.3 45.  50.8 58.\n",
      " 55.8 55.2 54.5 52.5 50.5 50.5 49.7 53.5 50.8 50.  49.9 49.3 48.4 47.7\n",
      " 47.1 46.9 46.9 53.5 39.2 38.4 37.8 39.5 39.4 39.2 39.4 39.4 45.9 56.7\n",
      " 62.8 50.7 54.1 49.9 48.5 48.5 47.9 59.8 48.7 45.8 45.1 43.9 42.4 41.2\n",
      " 41.7 42.1 52.4 49.7 49.6 49.  48.1 47.4 46.7 46.5 46.5 52.9 55.4 56.8\n",
      " 57.3 56.5 55.6 53.6 53.3 53.3 57.5 57.1 57.2 57.2 56.8 56.7 56.5 55.6\n",
      " 55.4 61.6 48.4 48.3 48.7 48.2 46.9 44.7 45.5 46.  54.5 49.1 50.  50.\n",
      " 50.4 46.8 46.7 46.1 45.7 51.6 42.5 40.6 37.6 29.1 28.1 26.2 25.3 24.2\n",
      " 27.4 47.7 46.  45.8 43.5 46.4 44.4 43.8 43.3 50.5 50.6 51.  50.9 50.3\n",
      " 49.1 48.8 48.4 48.5 57.1 36.2 35.6 34.7 35.2 34.2 33.2 34.  34.8 42.9\n",
      " 41.8 41.2 40.6 40.4 40.  41.3 42.1 42.9 47.2 38.8 38.5 38.9 38.6 37.4\n",
      " 38.7 39.3 38.2 43.1 42.1 40.8 40.2 38.5 36.4 34.4 35.7 36.  45.9 47.\n",
      " 46.8 46.1 44.8 43.6 42.5 42.3 42.1 47.8 46.6 43.3 44.4 46.3 49.3 51.5\n",
      " 50.5 48.8 51.6 58.5 43.1 43.  42.6 41.7 41.1 41.3 41.5 41.8 48.7 48.9\n",
      " 49.9 51.7 48.2 44.8 45.4 43.2 42.5 49.3 36.2 36.  35.4 36.  35.  33.6\n",
      " 34.5 36.  41.5 51.  51.7 50.7 49.3 49.7 49.2 49.9 49.1 52.1 49.4 60.3\n",
      " 50.8 48.7 46.2 44.1 43.5 43.3 51.3 41.3 42.6 43.4 45.7 42.7 39.6 39.8\n",
      " 40.7 45.6]\n",
      "(282,)\n",
      "float64\n"
     ]
    }
   ],
   "source": [
    "#Cargo los datos del gobierno\n",
    "#https://ec.europa.eu/eurostat/databrowser/view/gov_10a_exp/default/table?lang=en\n",
    "Gasto_Gobierno = \"data/Gasto_Gobierno.csv\"\n",
    "raw_data = open(Gasto_Gobierno)\n",
    "data = np.genfromtxt(raw_data, delimiter=\",\",usecols=(9),skip_header=1,filling_values=np.NAN)\n",
    "data = np.asarray(data)\n",
    "#He seleccionado la última columna del dataset\n",
    "\n",
    "#Que nos muestre los datos y las dimensiones del dataset\n",
    "print(data)\n",
    "print(data.shape)\n",
    "print(data.dtype) #ya son float"
   ]
  },
  {
   "cell_type": "code",
   "execution_count": 54,
   "id": "b11b35ce",
   "metadata": {},
   "outputs": [
    {
     "name": "stdout",
     "output_type": "stream",
     "text": [
      "24.2\n",
      "62.8\n",
      "45.95\n",
      "45.67801418439716\n"
     ]
    }
   ],
   "source": [
    "#Calculo el país que tiene mínimo,máximo y médio gasto de gobierno teniendo en cuenta todo el periodo\n",
    "print(np.min(data))\n",
    "print(np.max(data))\n",
    "print(np.median(data))\n",
    "print(np.mean(data))"
   ]
  },
  {
   "cell_type": "code",
   "execution_count": 101,
   "id": "8e24579f",
   "metadata": {},
   "outputs": [
    {
     "name": "stdout",
     "output_type": "stream",
     "text": [
      "[51.2 51.6 52.4 51.1 50.1 49.3 48.8 48.6 56.7 56. ]\n",
      "(10,)\n",
      "float64\n"
     ]
    }
   ],
   "source": [
    "#Ahora selecciono solo los datos de un país.\n",
    "#Selecciono las primeras 10 filas por lo que tengo 10 años de un mismo país. En este caso es de AT.\n",
    "Gasto_Gobierno = \"data/Gasto_Gobierno.csv\"\n",
    "raw_data_1 = open(Gasto_Gobierno)\n",
    "#dat_1 = np.arange(1,len(Gasto_Gobierno),10)\n",
    "#data1 = np.loadtxt(dat_1, delimiter=\";\",dtype=str)\n",
    "data_1 = np.genfromtxt(raw_data_1, delimiter=\",\",usecols=(9),skip_header=1,filling_values=np.NAN,max_rows = 10)\n",
    "data_1 = np.asarray(data_1)\n",
    "\n",
    "#Que nos muestre los dastos y las dimensiones del dataset\n",
    "print(data_1)\n",
    "print(data_1.shape)\n",
    "print(data_1.dtype) #ya son float"
   ]
  },
  {
   "cell_type": "code",
   "execution_count": 97,
   "id": "6bcabd1d",
   "metadata": {},
   "outputs": [
    {
     "name": "stdout",
     "output_type": "stream",
     "text": [
      "48.6\n",
      "56.7\n",
      "51.150000000000006\n",
      "51.58\n"
     ]
    }
   ],
   "source": [
    "#Calculo el mínimo,máximo y gasto medio del gobierno del país AT\n",
    "print(np.min(data_1))\n",
    "print(np.max(data_1))\n",
    "print(np.median(data_1))\n",
    "media_AT = print(np.mean(data_1))"
   ]
  },
  {
   "cell_type": "code",
   "execution_count": 106,
   "id": "82465fc4",
   "metadata": {},
   "outputs": [
    {
     "data": {
      "text/plain": [
       "(array([0., 0., 0., 0., 0., 0., 0., 0.]),\n",
       " array([2012., 2013., 2014., 2015., 2016., 2017., 2018., 2019., 2020.]),\n",
       " <BarContainer object of 8 artists>)"
      ]
     },
     "execution_count": 106,
     "metadata": {},
     "output_type": "execute_result"
    },
    {
     "data": {
      "image/png": "[encoded data removed]",
      "text/plain": [
       "<Figure size 640x480 with 1 Axes>"
      ]
     },
     "metadata": {},
     "output_type": "display_data"
    }
   ],
   "source": [
    "#PLOT\n",
    "fig, ax = plt.subplots()\n",
    "#título y nombres de los ejes\n",
    "ax.set_title(\"Gasto Gobierno AT\",loc=\"left\", fontdict = {'fontsize':14, 'fontweight':'bold', 'color':'tab:blue'})\n",
    "ax.set_xlabel('Años')\n",
    "ax.set_ylabel('Gasto Gobierno')\n",
    "\n",
    "#Histograma\n",
    "ax.hist(data_1, np.arange(2012,2021))"
   ]
  }
 ],
 "metadata": {
  "kernelspec": {
   "display_name": "Python 3 (ipykernel)",
   "language": "python",
   "name": "python3"
  },
  "language_info": {
   "codemirror_mode": {
    "name": "ipython",
    "version": 3
   },
   "file_extension": ".py",
   "mimetype": "text/x-python",
   "name": "python",
   "nbconvert_exporter": "python",
   "pygments_lexer": "ipython3",
   "version": "3.10.8"
  }
 },
 "nbformat": 4,
 "nbformat_minor": 5
}
